{
 "cells": [
  {
   "cell_type": "code",
   "execution_count": 5,
   "id": "5ad99c8b-2c18-439b-ae7d-bed1afcf9d46",
   "metadata": {},
   "outputs": [
    {
     "name": "stdout",
     "output_type": "stream",
     "text": [
      "Written Fibonacci number for 5 to file\n",
      "Written Fibonacci number for 1 to file\n",
      "Written Fibonacci number for 8 to file\n",
      "Written Fibonacci number for 10 to file\n",
      "CSV file written to ./output/result.csv\n"
     ]
    }
   ],
   "source": [
    "import os\n",
    "import csv\n",
    "from concurrent.futures import ThreadPoolExecutor\n",
    "from random import randint\n",
    "\n",
    "OUTPUT_DIR = './output'\n",
    "RESULT_FILE = './output/result.csv'\n",
    "\n",
    "\n",
    "# Function to calculate Fibonacci number by its ordinal position\n",
    "def fib(n: int):\n",
    "    if n == 0:\n",
    "        return 0\n",
    "    elif n == 1:\n",
    "        return 1\n",
    "    f0, f1 = 0, 1\n",
    "    for _ in range(n - 1):\n",
    "        f0, f1 = f1, f0 + f1\n",
    "    return f1\n",
    "\n",
    "\n",
    "# Helper function to write Fibonacci value to a file\n",
    "def write_fib_to_file(n: int):\n",
    "    filename = f'{OUTPUT_DIR}/{n}.txt'\n",
    "    fib_value = fib(n)\n",
    "    with open(filename, 'w') as f:\n",
    "        f.write(str(fib_value))\n",
    "    return n, fib_value  # returning for logging purposes\n",
    "\n",
    "\n",
    "# Function to calculate Fibonacci numbers and write them to files\n",
    "def func1(array: list):\n",
    "    with ThreadPoolExecutor() as executor:\n",
    "        results = executor.map(write_fib_to_file, array)\n",
    "    for result in results:\n",
    "        print(f'Written Fibonacci number for {result[0]} to file')\n",
    "\n",
    "\n",
    "# Function to read Fibonacci values from files and write them to a CSV file\n",
    "def func2(array: list, result_file: str):\n",
    "    with open(result_file, 'w', newline='') as csvfile:\n",
    "        csv_writer = csv.writer(csvfile)\n",
    "        for n in array:  # Iterate over the original array to maintain order\n",
    "            filename = f'{OUTPUT_DIR}/{n}.txt'\n",
    "            with open(filename, 'r') as f:\n",
    "                fib_value = f.read().strip()\n",
    "                csv_writer.writerow([n, fib_value])\n",
    "    print(f'CSV file written to {result_file}')\n",
    "\n",
    "\n",
    "if __name__ == '__main__':\n",
    "    if not os.path.exists(OUTPUT_DIR):\n",
    "        os.makedirs(OUTPUT_DIR)\n",
    "\n",
    "    # Example of using random large ordinals in the Fibonacci sequence\n",
    "    input_array = [5, 1, 8, 10]  # Change the list to match the order you need\n",
    "    func1(input_array)  # Call func1 with the list\n",
    "    func2(input_array, result_file=RESULT_FILE)  # Pass the same list to func2 to maintain order\n"
   ]
  },
  {
   "cell_type": "code",
   "execution_count": null,
   "id": "23f73fb8-a9d5-46c4-a908-069ffbded361",
   "metadata": {},
   "outputs": [],
   "source": []
  }
 ],
 "metadata": {
  "kernelspec": {
   "display_name": "Python 3 (ipykernel)",
   "language": "python",
   "name": "python3"
  },
  "language_info": {
   "codemirror_mode": {
    "name": "ipython",
    "version": 3
   },
   "file_extension": ".py",
   "mimetype": "text/x-python",
   "name": "python",
   "nbconvert_exporter": "python",
   "pygments_lexer": "ipython3",
   "version": "3.12.6"
  }
 },
 "nbformat": 4,
 "nbformat_minor": 5
}
