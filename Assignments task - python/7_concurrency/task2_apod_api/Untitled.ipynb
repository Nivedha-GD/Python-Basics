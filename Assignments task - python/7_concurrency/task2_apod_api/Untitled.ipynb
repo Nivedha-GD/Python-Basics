{
 "cells": [
  {
   "cell_type": "code",
   "execution_count": null,
   "id": "60ec772b-047e-4013-b23e-f2301ab1a777",
   "metadata": {},
   "outputs": [],
   "source": [
    "'YOUR_KEY' = 7UgYL8UGtK6Rmt7agCYbHH7AW5iboi8WbP7sp8bP"
   ]
  },
  {
   "cell_type": "code",
   "execution_count": 1,
   "id": "026631b5-d127-42e9-8343-98b44438ccca",
   "metadata": {},
   "outputs": [
    {
     "name": "stdout",
     "output_type": "stream",
     "text": [
      "Requirement already satisfied: requests in /Library/Frameworks/Python.framework/Versions/3.12/lib/python3.12/site-packages (2.32.3)\n",
      "Requirement already satisfied: charset-normalizer<4,>=2 in /Library/Frameworks/Python.framework/Versions/3.12/lib/python3.12/site-packages (from requests) (3.3.2)\n",
      "Requirement already satisfied: idna<4,>=2.5 in /Library/Frameworks/Python.framework/Versions/3.12/lib/python3.12/site-packages (from requests) (3.8)\n",
      "Requirement already satisfied: urllib3<3,>=1.21.1 in /Library/Frameworks/Python.framework/Versions/3.12/lib/python3.12/site-packages (from requests) (2.2.2)\n",
      "Requirement already satisfied: certifi>=2017.4.17 in /Library/Frameworks/Python.framework/Versions/3.12/lib/python3.12/site-packages (from requests) (2024.8.30)\n",
      "Note: you may need to restart the kernel to use updated packages.\n"
     ]
    }
   ],
   "source": [
    "pip install requests"
   ]
  },
  {
   "cell_type": "code",
   "execution_count": 2,
   "id": "cd767d69-5a89-496c-8b71-cf108b2d161e",
   "metadata": {},
   "outputs": [],
   "source": [
    "import os\n",
    "import requests\n",
    "from concurrent.futures import ThreadPoolExecutor\n",
    "\n",
    "API_KEY = \"7UgYL8UGtK6Rmt7agCYbHH7AW5iboi8WbP7sp8bP\"  # Replace with your actual API key\n",
    "APOD_ENDPOINT = 'https://api.nasa.gov/planetary/apod'\n",
    "OUTPUT_IMAGES = './output'\n"
   ]
  },
  {
   "cell_type": "code",
   "execution_count": 3,
   "id": "cad17d47-cc6b-4907-83c2-9bf71f99edf7",
   "metadata": {},
   "outputs": [],
   "source": [
    "def get_apod_metadata(start_date: str, end_date: str, api_key: str) -> list:\n",
    "    url = f\"{APOD_ENDPOINT}?api_key={api_key}&start_date={start_date}&end_date={end_date}\"\n",
    "    response = requests.get(url)\n",
    "    response.raise_for_status()  # Raise an exception for bad responses\n",
    "    data = response.json()\n",
    "\n",
    "    # Filter out entries that are videos\n",
    "    return [item for item in data if item['media_type'] == 'image']\n"
   ]
  },
  {
   "cell_type": "code",
   "execution_count": 4,
   "id": "96886212-cdec-4621-86fa-ba0f8552b043",
   "metadata": {},
   "outputs": [],
   "source": [
    "def download_image(image_data: dict):\n",
    "    image_url = image_data['url']\n",
    "    date = image_data['date']\n",
    "    title = image_data['title'].replace(' ', '_').replace('/', '-')\n",
    "    \n",
    "    image_extension = image_url.split('.')[-1]\n",
    "    image_filename = f\"{date}_{title}.{image_extension}\"\n",
    "    image_path = os.path.join(OUTPUT_IMAGES, image_filename)\n",
    "    \n",
    "    # Download the image\n",
    "    print(f\"Downloading {image_url}\")\n",
    "    response = requests.get(image_url)\n",
    "    with open(image_path, 'wb') as file:\n",
    "        file.write(response.content)\n",
    "    print(f\"Saved {image_filename}\")\n",
    "\n",
    "\n",
    "def download_apod_images(metadata: list):\n",
    "    if not os.path.exists(OUTPUT_IMAGES):\n",
    "        os.makedirs(OUTPUT_IMAGES)\n",
    "\n",
    "    # Use ThreadPoolExecutor for concurrent downloads\n",
    "    with ThreadPoolExecutor() as executor:\n",
    "        executor.map(download_image, metadata)\n"
   ]
  },
  {
   "cell_type": "code",
   "execution_count": 5,
   "id": "c606355f-fca1-40fd-ab33-99dd0e89b6b5",
   "metadata": {},
   "outputs": [],
   "source": [
    "def main():\n",
    "    metadata = get_apod_metadata(\n",
    "        start_date='2021-08-01',\n",
    "        end_date='2021-09-30',\n",
    "        api_key=API_KEY,\n",
    "    )\n",
    "    download_apod_images(metadata=metadata)\n"
   ]
  },
  {
   "cell_type": "code",
   "execution_count": 6,
   "id": "7f478589-6ef7-4e5c-91ac-faa1e07b425d",
   "metadata": {},
   "outputs": [
    {
     "name": "stdout",
     "output_type": "stream",
     "text": [
      "Downloading https://apod.nasa.gov/apod/image/2108/PlutoEnhancedHiRes_NewHorizons_960.jpgDownloading https://apod.nasa.gov/apod/image/2108/PerseusFireball_Dandan_960.jpg\n",
      "\n",
      "Downloading https://apod.nasa.gov/apod/image/2108/CenAjets_Eht_960.jpg\n",
      "Downloading https://apod.nasa.gov/apod/image/2108/Luna-Tycho-Clavius-high1024.jpg\n",
      "Downloading https://apod.nasa.gov/apod/image/2108/NGC6726_6723_2panel1100.jpg\n",
      "Downloading https://apod.nasa.gov/apod/image/2108/PIA24688_RTE_Anaglyph1024.jpg\n",
      "Downloading https://apod.nasa.gov/apod/image/2108/perseid_iss_1080.jpg\n",
      "Downloading https://apod.nasa.gov/apod/image/2108/PerseidsLost_SlovinskyHoralek_1080.jpg\n",
      "Downloading https://apod.nasa.gov/apod/image/2108/SpaceFlame_nasa_960.jpg\n",
      "Downloading https://apod.nasa.gov/apod/image/2108/Mammatus_Johnston_960.jpg\n",
      "Downloading https://apod.nasa.gov/apod/image/2108/M20-SHO-crop-Rev-5-RGB-Ha-OIII-RiDK-700-19-July-2021-1024.jpg\n",
      "Downloading https://apod.nasa.gov/apod/image/2108/m74_APOD1024.jpg\n",
      "Downloading https://apod.nasa.gov/apod/image/2108/IMG_20210813_143919_1024.jpg\n",
      "Downloading https://apod.nasa.gov/apod/image/2108/PerseidRain2021_Luo_960.jpg\n",
      "Downloading https://apod.nasa.gov/apod/image/2108/PerseidNovaSprites_Korona_960.jpg\n",
      "Saved 2021-08-08_A_Perseid_Below.jpg\n",
      "Downloading https://apod.nasa.gov/apod/image/2108/Ring_HubbleSchmidt_960.jpg\n",
      "Saved 2021-08-10_Fire_in_Space.jpg\n",
      "Downloading https://apod.nasa.gov/apod/image/2108/M57Ring_HubbleGendler_960.jpg\n",
      "Saved 2021-08-15_Perseid_Rain.jpg\n",
      "Downloading https://apod.nasa.gov/apod/image/2108/BrightMeteorPerseids2021-7337-crop-net1024.jpg\n",
      "Saved 2021-08-11_Mammatus_Clouds_over_Saskatchewan.jpg\n",
      "Downloading https://apod.nasa.gov/apod/image/2108/ThreeNightsPerseids1024.jpg\n",
      "Saved 2021-08-04_EHT_Resolves_Central_Jet_from_Black_Hole_in_Cen_A.jpg\n",
      "Downloading https://apod.nasa.gov/apod/image/2108/j20210815a_cgo_crop1200.jpg\n",
      "Saved 2021-08-09_Perseus_and_the_Lost_Meteors.jpg\n",
      "Downloading https://apod.nasa.gov/apod/image/2108/rsoph_pparc_960.jpg\n",
      "Saved 2021-08-03_A_Perseid_Fireball_and_the_Milky_Way.jpg\n",
      "Downloading https://apod.nasa.gov/apod/image/2108/Abell3827Lens_Hubble_960.jpg\n",
      "Saved 2021-08-16_Perseid_Meteor,_Red_Sprites,_and_Nova_RS_Ophiuchus.jpg\n",
      "Downloading https://apod.nasa.gov/apod/image/2108/PDS70_ALMA_960.jpg\n",
      "Saved 2021-08-14_Island_Universe,_Cosmic_Sand.jpg\n",
      "Downloading https://apod.nasa.gov/apod/image/2108/luna_antelao_Hofer1024.jpg\n",
      "Saved 2021-08-07_Jezero_Crater:_Raised_Ridges_in_3D.jpg\n",
      "Downloading https://apod.nasa.gov/apod/image/2108/ElephantTrunkCaravan1024.jpg\n",
      "Saved 2021-08-01_Pluto_in_Enhanced_Color.jpg\n",
      "Downloading https://apod.nasa.gov/apod/image/2108/PIA24767_1067.jpg\n",
      "Saved 2021-08-05_Tycho_and_Clavius.jpg\n",
      "Downloading https://apod.nasa.gov/apod/image/2108/phas_jpl_960.jpg\n",
      "Saved 2021-08-17_M57:_The_Ring_Nebula_from_Hubble.jpg\n",
      "Downloading https://apod.nasa.gov/apod/image/2108/FireRainbow_Harbig_960.jpg\n",
      "Saved 2021-08-24_PDS_70:_Disk,_Planets,_and_Moons.jpg\n",
      "Downloading https://apod.nasa.gov/apod/image/2108/Luna_Fedez_960.jpg\n",
      "Saved 2021-08-22_Explosions_from_White_Dwarf_Star_RS_Oph.jpg\n",
      "Downloading https://apod.nasa.gov/apod/image/2109/DancingGhosts_EnglishNorris_960.jpg\n",
      "Saved 2021-08-12_A_Beautiful_Trifid.jpg\n",
      "Downloading https://apod.nasa.gov/apod/image/2109/M51-SL14-RGB-196-Final-cC_1024.png\n",
      "Saved 2021-08-06_Stars_and_Dust_Across_Corona_Australis.jpg\n",
      "Downloading https://apod.nasa.gov/apod/image/2109/Irish_RC8_LHaRGB1024.png\n",
      "Saved 2021-08-18_Rings_Around_the_Ring_Nebula.jpg\n",
      "Downloading https://apod.nasa.gov/apod/image/2109/DSC06988copy2_1024.jpg\n",
      "Saved 2021-08-23_Abell_3827:_Cannibal_Cluster_Gravitational_Lens.jpg\n",
      "Downloading https://apod.nasa.gov/apod/image/2109/FireFlyMilkyWay_Komlev_960.jpg\n",
      "Saved 2021-08-21_Triple_Transit_and_Mutual_Events.jpg\n",
      "Downloading https://apod.nasa.gov/apod/image/2109/NGC520_HubbleOstling_960.jpg\n",
      "Saved 2021-09-01_Dancing_Ghosts:_Curved_Jets_from_Active_Galaxies.jpg\n",
      "Downloading https://apod.nasa.gov/apod/image/2109/M31WideField_Ziegenbalg_960.jpg\n",
      "Saved 2021-08-30_A_Fire_Rainbow_over_West_Virginia.jpg\n",
      "Downloading https://apod.nasa.gov/apod/image/2109/M16SHO_1024.jpg\n",
      "Saved 2021-08-28_Mars_Rock_Rochette.jpg\n",
      "Downloading https://apod.nasa.gov/apod/image/2109/67P_210907_1024.jpg\n",
      "Saved 2021-08-26_A_Blue_Hour_Full_Moon.jpg\n",
      "Downloading https://apod.nasa.gov/apod/image/2109/LastRingPortrait_Cassini_1080.jpg\n",
      "Saved 2021-09-04_A_Falcon_9_Nebula.jpg\n",
      "Downloading https://apod.nasa.gov/apod/image/2109/AuroraIceland_Necchi_960.jpg\n",
      "Saved 2021-08-29_Orbits_of_Potentially_Hazardous_Asteroids.jpg\n",
      "Downloading https://apod.nasa.gov/apod/image/2109/GalaxySkyMirror_Egon_960.jpg\n",
      "Saved 2021-08-31_A_Blue_Moon_in_Exaggerated_Colors.jpg\n",
      "Downloading https://apod.nasa.gov/apod/image/2109/MarsPanCompressed_Curiosity_1080.jpg\n",
      "Saved 2021-08-19_Bright_Meteor,_Starry_Sky.jpg\n",
      "Downloading https://apod.nasa.gov/apod/image/2109/StormPaths_NHC_1080.jpg\n",
      "Saved 2021-08-20_Three_Perseid_Nights.jpg\n",
      "Downloading https://apod.nasa.gov/apod/image/2109/NGC7000_SHO_AndrewKlinger_res65_sig1024.jpg\n",
      "Saved 2021-08-27_Elephant's_Trunk_and_Caravan.jpg\n",
      "Downloading https://apod.nasa.gov/apod/image/2109/RubinsGalaxy_hst1024.jpg\n",
      "Saved 2021-08-13_A_Perfect_Spiral.jpg\n",
      "Downloading https://apod.nasa.gov/apod/image/2109/saturn2004to2015_peach_960.jpg\n",
      "Saved 2021-09-07_NGC_520:_Colliding_Galaxies_from_Hubble.jpg\n",
      "Downloading https://apod.nasa.gov/apod/image/2109/LDN1251Gualco1024.jpg\n",
      "Saved 2021-09-11_Saturn_at_Night.jpg\n",
      "Downloading https://apod.nasa.gov/apod/image/2109/SunSpotHill_Coy_960.jpg\n",
      "Saved 2021-09-19_Rings_and_Seasons_of_Saturn.jpg\n",
      "Downloading https://apod.nasa.gov/apod/image/2109/Cohea_APOD_HarvestMoon1067.jpg\n",
      "Saved 2021-09-14_Mars_Panorama_360_from_Curiosity.jpg\n",
      "Downloading https://apod.nasa.gov/apod/image/2109/IMG_9365-Aug1314-2021-282-meteors1024.jpg\n",
      "Saved 2021-09-13_Night_Sky_Reflected.jpg\n",
      "Downloading https://apod.nasa.gov/apod/image/2109/241_lorand_fenyes_bubble_m52_1120.jpg\n",
      "Saved 2021-09-21_Sun_Spot_Hill.jpg\n",
      "Downloading https://apod.nasa.gov/apod/image/2109/RedSquare_Tuthill_960.jpg\n",
      "Saved 2021-09-09_M16_Close_Up.jpg\n",
      "Downloading https://apod.nasa.gov/apod/image/2109/AldrinVisorCrop_Apollo11_1080.jpg\n",
      "Saved 2021-09-15_Cyclone_Paths_on_Planet_Earth.jpg\n",
      "Downloading https://apod.nasa.gov/apod/image/2109/NebulaeTriangulumM33-1179.jpg\n",
      "Saved 2021-09-03_NGC_7023:_The_Iris_Nebula.png\n",
      "Saved 2021-09-06_Firefly_Milky_Way_over_Russia.jpg\n",
      "Saved 2021-09-12_A_Spiral_Aurora_over_Iceland.jpg\n",
      "Saved 2021-09-26_The_Red_Square_Nebula.jpg\n",
      "Saved 2021-09-20_Lynds_Dark_Nebula_1251.jpg\n",
      "Saved 2021-09-10_Rosetta's_Comet_in_View.jpg\n",
      "Saved 2021-09-27_Unwrapped:_Five_Decade_Old_Lunar_Selfie.jpg\n",
      "Saved 2021-09-18_Rubin's_Galaxy.jpg\n",
      "Saved 2021-09-25_The_Bubble_and_the_Star_Cluster.jpg\n",
      "Saved 2021-09-24_Perseid_Outburst_at_Westmeath_Lookout.jpg\n",
      "Saved 2021-09-02_M51:_The_Whirlpool_Galaxy.png\n",
      "Saved 2021-09-08_The_Deep_Sky_Toward_Andromeda.jpg\n",
      "Saved 2021-09-30_The_Hydrogen_Clouds_of_M33.jpg\n",
      "Saved 2021-09-16_North_America_and_the_Pelican.jpg\n",
      "Saved 2021-09-23_Harvest_Moon_Trail.jpg\n"
     ]
    }
   ],
   "source": [
    "if __name__ == '__main__':\n",
    "    main()\n"
   ]
  },
  {
   "cell_type": "code",
   "execution_count": null,
   "id": "7189e2eb-5a1f-486e-ab99-4a68cd84357c",
   "metadata": {},
   "outputs": [],
   "source": []
  }
 ],
 "metadata": {
  "kernelspec": {
   "display_name": "Python 3 (ipykernel)",
   "language": "python",
   "name": "python3"
  },
  "language_info": {
   "codemirror_mode": {
    "name": "ipython",
    "version": 3
   },
   "file_extension": ".py",
   "mimetype": "text/x-python",
   "name": "python",
   "nbconvert_exporter": "python",
   "pygments_lexer": "ipython3",
   "version": "3.12.6"
  }
 },
 "nbformat": 4,
 "nbformat_minor": 5
}
