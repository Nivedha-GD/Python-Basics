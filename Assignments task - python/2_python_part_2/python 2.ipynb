{
 "cells": [
  {
   "cell_type": "markdown",
   "id": "beb831d9-da6e-4425-bdd3-bd3be8ea4da6",
   "metadata": {},
   "source": [
    "# 1 "
   ]
  },
  {
   "cell_type": "code",
   "execution_count": null,
   "id": "be3d0db6-b269-46e8-86c2-685bc01ca672",
   "metadata": {},
   "outputs": [],
   "source": []
  },
  {
   "cell_type": "code",
   "execution_count": 4,
   "id": "be3f4a58-e11b-4ea9-87af-6a6df9bb7164",
   "metadata": {},
   "outputs": [
    {
     "name": "stdout",
     "output_type": "stream",
     "text": [
      "Created on: 2024-09-16 11:16:29.994584\n",
      "Deadline: 2024-09-16 11:16:29.994584\n",
      "Task: Learn functions\n",
      "OOP Homework deadline: 2024-09-21 11:16:29.995060\n",
      "You are late\n"
     ]
    }
   ],
   "source": [
    "import datetime\n",
    "\n",
    "class Homework:\n",
    "    def __init__(self, text, days_to_complete):\n",
    "        self.text = text\n",
    "        self.created = datetime.datetime.now()\n",
    "        self.deadline = self.created + datetime.timedelta(days=days_to_complete)\n",
    "\n",
    "    def is_active(self):\n",
    "        return datetime.datetime.now() <= self.deadline\n",
    "\n",
    "\n",
    "class Student:\n",
    "    def __init__(self, first_name, last_name):\n",
    "        self.first_name = first_name\n",
    "        self.last_name = last_name\n",
    "\n",
    "\n",
    "    def do_homework(self, homework):\n",
    "       \n",
    "        if homework.is_active():\n",
    "            return homework\n",
    "        else:\n",
    "            print('You are late')\n",
    "            return None\n",
    "\n",
    "\n",
    "class Teacher:\n",
    "    def __init__(self, first_name, last_name):\n",
    "        self.first_name = first_name\n",
    "        self.last_name = last_name\n",
    "\n",
    "    @staticmethod\n",
    "    def create_homework(text, days_to_complete):\n",
    "        return Homework(text, days_to_complete)\n",
    "\n",
    "\n",
    "if __name__ == '__main__':\n",
    "    teacher = Teacher('Dmitry', 'Orlyakov') \n",
    "    student = Student('Vladislav', 'Popov')\n",
    "\n",
    "    expired_homework = teacher.create_homework('Learn functions', 0)\n",
    "    \n",
    "    print(f\"Created on: {expired_homework.created}\")  \n",
    "    print(f\"Deadline: {expired_homework.deadline}\")  \n",
    "    print(f\"Task: {expired_homework.text}\")  \n",
    "\n",
    "    create_homework_too = teacher.create_homework\n",
    "    oop_homework = create_homework_too('Create 2 simple classes', 5)\n",
    "    print(f\"OOP Homework deadline: {oop_homework.deadline}\")  \n",
    "\n",
    "    student.do_homework(oop_homework)  \n",
    "    student.do_homework(expired_homework)  \n"
   ]
  },
  {
   "cell_type": "code",
   "execution_count": 1,
   "id": "83f87dcd-6941-4215-b8e0-56698ec0e3df",
   "metadata": {},
   "outputs": [
    {
     "ename": "AttributeError",
     "evalue": "module 'ipytest' has no attribute 'clean_tests'",
     "output_type": "error",
     "traceback": [
      "\u001b[0;31m---------------------------------------------------------------------------\u001b[0m",
      "\u001b[0;31mAttributeError\u001b[0m                            Traceback (most recent call last)",
      "Cell \u001b[0;32mIn[1], line 5\u001b[0m\n\u001b[1;32m      2\u001b[0m ipytest\u001b[38;5;241m.\u001b[39mconfig(rewrite_asserts\u001b[38;5;241m=\u001b[39m\u001b[38;5;28;01mTrue\u001b[39;00m)\n\u001b[1;32m      3\u001b[0m \u001b[38;5;18m__file__\u001b[39m \u001b[38;5;241m=\u001b[39m \u001b[38;5;124m'\u001b[39m\u001b[38;5;124mNotebook.ipynb\u001b[39m\u001b[38;5;124m'\u001b[39m\n\u001b[0;32m----> 5\u001b[0m \u001b[43mipytest\u001b[49m\u001b[38;5;241;43m.\u001b[39;49m\u001b[43mclean_tests\u001b[49m()  \u001b[38;5;66;03m# Clean previously defined tests\u001b[39;00m\n",
      "\u001b[0;31mAttributeError\u001b[0m: module 'ipytest' has no attribute 'clean_tests'"
     ]
    }
   ],
   "source": [
    "import ipytest\n",
    "ipytest.config(rewrite_asserts=True)\n",
    "__file__ = 'Notebook.ipynb'\n",
    "\n",
    "ipytest.clean_tests()  # Clean previously defined tests\n"
   ]
  },
  {
   "cell_type": "code",
   "execution_count": null,
   "id": "1c6bab60-47f7-426d-abf5-9586cef5f7fb",
   "metadata": {},
   "outputs": [],
   "source": []
  },
  {
   "cell_type": "code",
   "execution_count": null,
   "id": "8aa9e3ce-6a2c-402c-9a06-ae3d3874dc1d",
   "metadata": {},
   "outputs": [],
   "source": []
  },
  {
   "cell_type": "markdown",
   "id": "e1b32380-c423-43ca-80d8-e282411d1867",
   "metadata": {},
   "source": [
    "# 2"
   ]
  },
  {
   "cell_type": "code",
   "execution_count": 12,
   "id": "69afd60c-c071-4f6f-987e-a0580002cf36",
   "metadata": {},
   "outputs": [
    {
     "name": "stdout",
     "output_type": "stream",
     "text": [
      "Division by 0\n",
      "Division finished\n",
      "None\n",
      "Deletion on 1 gets the same result\n",
      "Division finished\n",
      "None\n",
      "Division finished\n",
      "1\n"
     ]
    }
   ],
   "source": [
    "\"\"\"\n",
    "Write a function which divides x by y.\n",
    "If y == 0 it should print \"Division by 0\" and return None\n",
    "elif y == 1 it should raise custom Exception with \"Deletion on 1 get the same result\" text\n",
    "else it should return the result of division\n",
    "In all cases it should print \"Division finished\"\n",
    "    >>> division(1, 0)\n",
    "    Division by 0\n",
    "    Division finished\n",
    "    >>> division(1, 1)\n",
    "    Division finished\n",
    "    DivisionByOneException(\"Deletion on 1 get the same result\")\n",
    "    >>> division(2, 2)\n",
    "    1\n",
    "    Division finished\n",
    "\"\"\"\n",
    "class DivisionByOneException(Exception):\n",
    "    def __init__(self, message=\"Deletion on 1 gets the same result\"):\n",
    "        self.message = message\n",
    "        super().__init__(self.message)\n",
    "\n",
    "\n",
    "def division(x: int, y: int) -> typing.Union[None, int]:\n",
    "    try:\n",
    "        if y == 0:\n",
    "            print(\"Division by 0\")\n",
    "            return None\n",
    "        elif y == 1:\n",
    "            raise DivisionByOneException()\n",
    "        else:\n",
    "            return x // y  # Integer division\n",
    "    except DivisionByOneException as e:\n",
    "        print(e)\n",
    "    finally:\n",
    "        print(\"Division finished\")\n",
    "\n",
    "print(division(1, 0))  \n",
    "print(division(1, 1))  \n",
    "print(division(2, 2)) "
   ]
  },
  {
   "cell_type": "code",
   "execution_count": 16,
   "id": "f1f40ba4-eaa9-4e36-afb2-d49318d8d568",
   "metadata": {},
   "outputs": [
    {
     "name": "stdout",
     "output_type": "stream",
     "text": [
      "1\n"
     ]
    }
   ],
   "source": [
    "class DivisionByOneException(Exception):\n",
    "    pass  # No need to define __init__ or use super()\n",
    "def division(x: int, y: int):\n",
    "    if y == 0:\n",
    "        print(\"Division by 0\")\n",
    "        return None\n",
    "    elif y == 1:\n",
    "        raise DivisionByOneException(\"Deletion on 1 gets the same result\")\n",
    "    else:\n",
    "        return x // y\n",
    "\n",
    "# Test cases\n",
    "try:\n",
    "    print(division(4, 4))\n",
    "except DivisionByOneException as e:\n",
    "    print(e)  # Output: Deletion on 1 gets the same result\n"
   ]
  },
  {
   "cell_type": "markdown",
   "id": "3b373e8e-f38d-4243-900d-76aa9c211079",
   "metadata": {},
   "source": [
    "# 3"
   ]
  },
  {
   "cell_type": "code",
   "execution_count": 21,
   "id": "934b5b0b-92df-4775-9bd3-f54952a0afd7",
   "metadata": {},
   "outputs": [
    {
     "name": "stdin",
     "output_type": "stream",
     "text": [
      "Enter a number:  3\n",
      "Enter a number:  3\n",
      "Enter a number:  4\n",
      "Enter a number:  4\n",
      "Enter a number:  4\n"
     ]
    },
    {
     "name": "stdout",
     "output_type": "stream",
     "text": [
      "3.6\n"
     ]
    }
   ],
   "source": [
    "\"\"\"\n",
    "Write function which reads a number from input nth times.\n",
    "If an entered value isn't a number, ignore it.\n",
    "After all inputs are entered, calculate an average entered number.\n",
    "Return string with following format:\n",
    "If average exists, return: \"Avg: X\", where X is avg value which rounded to 2 places after the decimal\n",
    "If it doesn't exists, return: \"No numbers entered\"\n",
    "Examples:\n",
    "    user enters: 1, 2, hello, 2, world\n",
    "    >>> read_numbers(5)\n",
    "    Avg: 1.67\n",
    "    ------------\n",
    "    user enters: hello, world, foo, bar, baz\n",
    "    >>> read_numbers(5)\n",
    "    No numbers entered\n",
    "\n",
    "\"\"\"\n",
    "\n",
    "def read_numbers(n: int) -> str:\n",
    "    numbers = []  \n",
    "# 3, \"hfgf\"\n",
    "    for i in range(n):\n",
    "        num = input(\"Enter a number: \")\n",
    "        try:\n",
    "            number = float(num)\n",
    "            numbers.append(number)\n",
    "        except ValueError:\n",
    "            continue\n",
    "\n",
    "    if numbers:\n",
    "        avg = sum(numbers) / len(numbers)  \n",
    "        return avg\n",
    "        \n",
    "    else:\n",
    "        return \"No numbers entered\"  \n",
    "\n",
    "print(read_numbers(5)) \n"
   ]
  },
  {
   "cell_type": "code",
   "execution_count": null,
   "id": "d90c65ab-f8c9-416a-8235-71424cdc6365",
   "metadata": {},
   "outputs": [],
   "source": []
  },
  {
   "cell_type": "code",
   "execution_count": null,
   "id": "66317e4f-a5b0-4588-bd3c-684a189d2d0d",
   "metadata": {},
   "outputs": [],
   "source": []
  },
  {
   "cell_type": "markdown",
   "id": "62ebc57e-343d-4535-a258-7333096d251a",
   "metadata": {},
   "source": [
    "# 5"
   ]
  },
  {
   "cell_type": "code",
   "execution_count": 2,
   "id": "85b16ed4-8256-467d-805d-c8cddee6ec49",
   "metadata": {},
   "outputs": [
    {
     "name": "stdout",
     "output_type": "stream",
     "text": [
      "Values written to result.txt\n"
     ]
    }
   ],
   "source": [
    "import os\n",
    "\n",
    "def extract_values_and_write():\n",
    "    directory = '/Users/nanbazhagan/Desktop/practice/2_python_part_2/files'  \n",
    "    output_file = 'result.txt'  \n",
    "    values = []\n",
    "\n",
    "    for filename in os.listdir(directory):\n",
    "        file_path = os.path.join(directory, filename)\n",
    "        \n",
    "        if os.path.isfile(file_path):\n",
    "            with open(file_path, 'r') as f:\n",
    "                content = f.read().strip()  \n",
    "                values.append(content)  \n",
    "\n",
    "    with open(output_file, 'w') as output:\n",
    "        output.write(', '.join(values))  \n",
    "    print(f\"Values written to {output_file}\")\n",
    "\n",
    "extract_values_and_write()\n"
   ]
  },
  {
   "cell_type": "code",
   "execution_count": 3,
   "id": "67c8048d-0d96-4b69-976b-f2fecad4309f",
   "metadata": {},
   "outputs": [
    {
     "name": "stdout",
     "output_type": "stream",
     "text": [
      "Values written to result.txt\n"
     ]
    }
   ],
   "source": [
    "import os\n",
    "\n",
    "def extract_values_and_write():\n",
    "    directory = '/Users/nanbazhagan/Desktop/practice/2_python_part_2/files'  \n",
    "    output_file = 'result.txt'  \n",
    "    values = []\n",
    "\n",
    "    for filename in os.listdir(directory):\n",
    "        file_path = os.path.join(directory, filename)\n",
    "        \n",
    "        if os.path.isfile(file_path):\n",
    "            with open(file_path, 'r') as f:\n",
    "                content = f.read().strip()  \n",
    "                values.append(content)  \n",
    "\n",
    "    with open(output_file, 'w') as output:\n",
    "        output.write(', '.join(values))  \n",
    "    print(f\"Values written to {output_file}\")\n",
    "\n",
    "extract_values_and_write()\n"
   ]
  },
  {
   "cell_type": "code",
   "execution_count": 37,
   "id": "f26ded8d-03a4-4e4a-895e-64e566af7f32",
   "metadata": {},
   "outputs": [
    {
     "data": {
      "text/plain": [
       "'/Users/nanbazhagan/Desktop/practice/2_python_part_2'"
      ]
     },
     "execution_count": 37,
     "metadata": {},
     "output_type": "execute_result"
    },
    {
     "name": "stdout",
     "output_type": "stream",
     "text": [
      "The history saving thread hit an unexpected error (OperationalError('attempt to write a readonly database')).History will not be written to the database.\n"
     ]
    }
   ],
   "source": [
    "pwd"
   ]
  },
  {
   "cell_type": "code",
   "execution_count": null,
   "id": "3be94cad-cf6f-48bd-b7af-1a679641a3c9",
   "metadata": {},
   "outputs": [],
   "source": []
  },
  {
   "cell_type": "markdown",
   "id": "45a1fca2-18b2-447f-9ae6-b711b4203d9e",
   "metadata": {},
   "source": [
    "# 4"
   ]
  },
  {
   "cell_type": "code",
   "execution_count": 28,
   "id": "044f2b77-0ca2-4613-b162-baf3dfec26eb",
   "metadata": {},
   "outputs": [
    {
     "data": {
      "text/plain": [
       "'/Users/nanbazhagan/Desktop/practice/2_python_part_2'"
      ]
     },
     "execution_count": 28,
     "metadata": {},
     "output_type": "execute_result"
    }
   ],
   "source": [
    "\"\"\"\n",
    "Use function 'generate_words' to generate random words.\n",
    "Write them to a new file encoded in UTF-8. Separator - '\\n'.\n",
    "Write second file encoded in CP1252, reverse words order. Separator - ','.\n",
    "\n",
    "Example:\n",
    "    Input: ['abc', 'def', 'xyz']\n",
    "\n",
    "    Output:\n",
    "        file1.txt (content: \"abc\\ndef\\nxyz\", encoding: UTF-8)\n",
    "        file2.txt (content: \"xyz,def,abc\", encoding: CP1252)\n",
    "\"\"\"\n",
    "\n",
    "\n",
    "def generate_words(n=20):\n",
    "    import string\n",
    "    import random\n",
    "\n",
    "    words = list()\n",
    "    for _ in range(n):\n",
    "        word = ''.join(random.choices(string.ascii_lowercase, k=random.randint(3, 10)))\n",
    "        words.append(word)\n",
    "\n",
    "    return words\n"
   ]
  },
  {
   "cell_type": "code",
   "execution_count": 36,
   "id": "c22db713-c80a-42fe-bee3-3cda97442311",
   "metadata": {},
   "outputs": [
    {
     "name": "stdout",
     "output_type": "stream",
     "text": [
      "Files written successfully.\n"
     ]
    }
   ],
   "source": [
    "def generate_words(n=20):\n",
    "    import string\n",
    "    import random\n",
    "\n",
    "    words = list()\n",
    "    for _ in range(n):\n",
    "        word = ''.join(random.choices(string.ascii_lowercase, k=random.randint(3, 10)))\n",
    "        words.append(word)\n",
    "\n",
    "    return words\n",
    "def write_files():\n",
    "    words = generate_words()\n",
    "\n",
    "    with open('file1.txt', 'w', encoding='utf-8') as file1:\n",
    "        file1.write('\\n'.join(words)) \n",
    "\n",
    "    with open('file2.txt', 'w', encoding='utf-8') as file2:\n",
    "        file2.write(','.join(reversed(words)))  \n",
    "\n",
    "    print(\"Files written successfully.\")\n",
    "\n",
    "write_files()\n"
   ]
  },
  {
   "cell_type": "code",
   "execution_count": null,
   "id": "cf2f8036-8226-4862-9656-70638b473c30",
   "metadata": {},
   "outputs": [],
   "source": []
  }
 ],
 "metadata": {
  "kernelspec": {
   "display_name": "Python 3 (ipykernel)",
   "language": "python",
   "name": "python3"
  },
  "language_info": {
   "codemirror_mode": {
    "name": "ipython",
    "version": 3
   },
   "file_extension": ".py",
   "mimetype": "text/x-python",
   "name": "python",
   "nbconvert_exporter": "python",
   "pygments_lexer": "ipython3",
   "version": "3.12.6"
  }
 },
 "nbformat": 4,
 "nbformat_minor": 5
}
