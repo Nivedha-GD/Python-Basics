{
 "cells": [
  {
   "cell_type": "code",
   "execution_count": 1,
   "id": "79cd7c25-8d25-45f6-97b6-44869f80e908",
   "metadata": {},
   "outputs": [
    {
     "name": "stdout",
     "output_type": "stream",
     "text": [
      "Values written to result.txt\n"
     ]
    }
   ],
   "source": [
    "import os\n",
    "\n",
    "def extract_values_and_write():\n",
    "    directory = '/Users/nanbazhagan/Desktop/practice/2_python_part_2/files'  \n",
    "    output_file = 'result.txt'  \n",
    "    values = []\n",
    "\n",
    "    for filename in os.listdir(directory):\n",
    "        file_path = os.path.join(directory, filename)\n",
    "        \n",
    "        if os.path.isfile(file_path):\n",
    "            with open(file_path, 'r') as f:\n",
    "                content = f.read().strip()  \n",
    "                values.append(content)  \n",
    "\n",
    "    with open(output_file, 'w') as output:\n",
    "        output.write(', '.join(values))  \n",
    "    print(f\"Values written to {output_file}\")\n",
    "\n",
    "extract_values_and_write()\n"
   ]
  },
  {
   "cell_type": "code",
   "execution_count": 2,
   "id": "fc539f50-de92-41ff-8bac-37f5caef8a4c",
   "metadata": {},
   "outputs": [
    {
     "data": {
      "text/plain": [
       "'/Users/nanbazhagan/Desktop/practice/2_python_part_2'"
      ]
     },
     "execution_count": 2,
     "metadata": {},
     "output_type": "execute_result"
    }
   ],
   "source": [
    "pwd"
   ]
  },
  {
   "cell_type": "code",
   "execution_count": null,
   "id": "fe331210-e3b9-4116-adba-ce724a73b7a7",
   "metadata": {},
   "outputs": [],
   "source": [
    "Desktop/practice/2_python_part_2/files"
   ]
  }
 ],
 "metadata": {
  "kernelspec": {
   "display_name": "Python 3 (ipykernel)",
   "language": "python",
   "name": "python3"
  },
  "language_info": {
   "codemirror_mode": {
    "name": "ipython",
    "version": 3
   },
   "file_extension": ".py",
   "mimetype": "text/x-python",
   "name": "python",
   "nbconvert_exporter": "python",
   "pygments_lexer": "ipython3",
   "version": "3.12.6"
  }
 },
 "nbformat": 4,
 "nbformat_minor": 5
}
