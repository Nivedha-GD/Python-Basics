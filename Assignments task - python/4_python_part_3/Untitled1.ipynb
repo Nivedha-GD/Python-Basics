{
 "cells": [
  {
   "cell_type": "code",
   "execution_count": 9,
   "id": "fe1261c5-a84c-4af6-8aca-5558adb47603",
   "metadata": {},
   "outputs": [],
   "source": [
    "import re\n",
    "import ipytest\n",
    "ipytest.autoconfig()  # Auto-configures ipytest to run in a notebook\n",
    "\n",
    "\n",
    "def is_http_domain(domain: str) -> bool:\n",
    "    pattern = r'^https?://[a-zA-Z0-9.-]+\\.[a-zA-Z]{2,}(/.*)?$'\n",
    "    return bool(re.match(pattern, domain))\n",
    "\n",
    "def test_is_http_domain():\n",
    "    # Test valid HTTP/HTTPS domains\n",
    "    assert is_http_domain('http://wikipedia.org') == True\n",
    "    assert is_http_domain('https://ru.wikipedia.org/') == True\n",
    "    assert is_http_domain('https://example.com') == True\n",
    "    assert is_http_domain('http://www.sub.domain.co.uk/') == True\n",
    "    # Test invalid domains\n",
    "    assert is_http_domain('griddynamics.com') == False\n",
    "    assert is_http_domain('http:/wikipedia.org') == False\n",
    "    assert is_http_domain('http://wikipedia.') == False\n",
    "    assert is_http_domain('https://wikipedia') == False\n",
    "    assert is_http_domain('ftp://example.com') == False\n",
    "    # Edge cases\n",
    "    assert is_http_domain('https://') == False\n",
    "    assert is_http_domain('http://.') == False\n",
    "    assert is_http_domain('http://subdomain.') == False\n",
    "\n",
    "# Run the test with ipytest\n"
   ]
  },
  {
   "cell_type": "code",
   "execution_count": 10,
   "id": "f61c31c9-89a0-407b-aced-cb6c066f9ae7",
   "metadata": {},
   "outputs": [
    {
     "name": "stdout",
     "output_type": "stream",
     "text": [
      "\u001b[31mF\u001b[0m\u001b[32m.\u001b[0m\u001b[31m                                                                                           [100%]\u001b[0m\n",
      "============================================= FAILURES =============================================\n",
      "\u001b[31m\u001b[1m________________________________ TestMakeRequest.test_make_request _________________________________\u001b[0m\n",
      "\n",
      "self = <__main__.TestMakeRequest testMethod=test_make_request>\n",
      "mock_urlopen = <MagicMock name='urlopen' id='4459486416'>\n",
      "\n",
      "    \u001b[0m\u001b[37m@patch\u001b[39;49;00m(\u001b[33m'\u001b[39;49;00m\u001b[33murllib.request.urlopen\u001b[39;49;00m\u001b[33m'\u001b[39;49;00m)  \u001b[90m# Mock urlopen\u001b[39;49;00m\u001b[90m\u001b[39;49;00m\n",
      "    \u001b[94mdef\u001b[39;49;00m \u001b[92mtest_make_request\u001b[39;49;00m(\u001b[96mself\u001b[39;49;00m, mock_urlopen):\u001b[90m\u001b[39;49;00m\n",
      "        \u001b[90m# Setup the mock\u001b[39;49;00m\u001b[90m\u001b[39;49;00m\n",
      "        mock_response = MagicMock()\u001b[90m\u001b[39;49;00m\n",
      "        mock_response.getcode.return_value = \u001b[94m200\u001b[39;49;00m\u001b[90m\u001b[39;49;00m\n",
      "        mock_response.read.return_value = \u001b[33mb\u001b[39;49;00m\u001b[33m'\u001b[39;49;00m\u001b[33msome response data\u001b[39;49;00m\u001b[33m'\u001b[39;49;00m\u001b[90m\u001b[39;49;00m\n",
      "        mock_urlopen.return_value = mock_response\u001b[90m\u001b[39;49;00m\n",
      "    \u001b[90m\u001b[39;49;00m\n",
      "        \u001b[90m# Call the function\u001b[39;49;00m\u001b[90m\u001b[39;49;00m\n",
      "        status_code, response_data = make_request(\u001b[33m'\u001b[39;49;00m\u001b[33mhttp://example.com\u001b[39;49;00m\u001b[33m'\u001b[39;49;00m)\u001b[90m\u001b[39;49;00m\n",
      "    \u001b[90m\u001b[39;49;00m\n",
      "        \u001b[90m# Print debug information\u001b[39;49;00m\u001b[90m\u001b[39;49;00m\n",
      "        \u001b[96mprint\u001b[39;49;00m(\u001b[33mf\u001b[39;49;00m\u001b[33m'\u001b[39;49;00m\u001b[33mStatus Code: \u001b[39;49;00m\u001b[33m{\u001b[39;49;00mstatus_code\u001b[33m}\u001b[39;49;00m\u001b[33m'\u001b[39;49;00m)  \u001b[90m# Debug print\u001b[39;49;00m\u001b[90m\u001b[39;49;00m\n",
      "        \u001b[96mprint\u001b[39;49;00m(\u001b[33mf\u001b[39;49;00m\u001b[33m'\u001b[39;49;00m\u001b[33mResponse Data: \u001b[39;49;00m\u001b[33m{\u001b[39;49;00mresponse_data\u001b[33m}\u001b[39;49;00m\u001b[33m'\u001b[39;49;00m)  \u001b[90m# Debug print\u001b[39;49;00m\u001b[90m\u001b[39;49;00m\n",
      "    \u001b[90m\u001b[39;49;00m\n",
      "        \u001b[90m# Validate the output\u001b[39;49;00m\u001b[90m\u001b[39;49;00m\n",
      ">       \u001b[96mself\u001b[39;49;00m.assertEqual(status_code, \u001b[94m200\u001b[39;49;00m)\u001b[90m\u001b[39;49;00m\n",
      "\u001b[1m\u001b[31mE       AssertionError: <MagicMock name='urlopen().__enter__().getcode()' id='4459949152'> != 200\u001b[0m\n",
      "\n",
      "\u001b[1m\u001b[31m/var/folders/5t/f5fvvxzn60zbsnkbzcjxwd2w0000gp/T/ipykernel_62634/1196314676.py\u001b[0m:21: AssertionError\n",
      "--------------------------------------- Captured stdout call ---------------------------------------\n",
      "Status Code: <MagicMock name='urlopen().__enter__().getcode()' id='4459949152'>\n",
      "Response Data: <MagicMock name='urlopen().__enter__().read().decode()' id='4460055680'>\n",
      "\u001b[36m\u001b[1m===================================== short test summary info ======================================\u001b[0m\n",
      "\u001b[31mFAILED\u001b[0m t_3cecceed49af4f36a7a2d9fdde0d1511.py::\u001b[1mTestMakeRequest::test_make_request\u001b[0m - AssertionError: <MagicMock name='urlopen().__enter__().getcode()' id='4459949152'> != 200\n",
      "\u001b[31m\u001b[31m\u001b[1m1 failed\u001b[0m, \u001b[32m1 passed\u001b[0m\u001b[31m in 0.04s\u001b[0m\u001b[0m\n"
     ]
    },
    {
     "data": {
      "text/plain": [
       "<ExitCode.TESTS_FAILED: 1>"
      ]
     },
     "execution_count": 10,
     "metadata": {},
     "output_type": "execute_result"
    }
   ],
   "source": [
    "ipytest.run()\n"
   ]
  },
  {
   "cell_type": "code",
   "execution_count": null,
   "id": "6a7d3454-143e-488c-820a-814537c9e804",
   "metadata": {},
   "outputs": [],
   "source": []
  }
 ],
 "metadata": {
  "kernelspec": {
   "display_name": "Python 3 (ipykernel)",
   "language": "python",
   "name": "python3"
  },
  "language_info": {
   "codemirror_mode": {
    "name": "ipython",
    "version": 3
   },
   "file_extension": ".py",
   "mimetype": "text/x-python",
   "name": "python",
   "nbconvert_exporter": "python",
   "pygments_lexer": "ipython3",
   "version": "3.12.6"
  }
 },
 "nbformat": 4,
 "nbformat_minor": 5
}
