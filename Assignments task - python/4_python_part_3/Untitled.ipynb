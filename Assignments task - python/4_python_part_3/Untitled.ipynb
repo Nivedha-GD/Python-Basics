{
 "cells": [
  {
   "cell_type": "code",
   "execution_count": 14,
   "id": "1845ee8b-d4c3-4e3d-ba4f-38a233744e64",
   "metadata": {},
   "outputs": [],
   "source": [
    "# 1"
   ]
  },
  {
   "cell_type": "code",
   "execution_count": 1,
   "id": "14952ce3-2324-4f55-a6e6-dab4b4cb89fe",
   "metadata": {},
   "outputs": [],
   "source": [
    "import ipytest\n",
    "ipytest.autoconfig()  # Auto-configures ipytest to run in a notebook\n"
   ]
  },
  {
   "cell_type": "code",
   "execution_count": 6,
   "id": "29e2c4e2-2441-4688-baea-e8d5ed14e06b",
   "metadata": {},
   "outputs": [],
   "source": [
    "from datetime import datetime\n",
    "from freezegun import freeze_time\n",
    "import pytest\n",
    "\n",
    "# Custom exception\n",
    "class WrongFormatException(Exception):\n",
    "    pass\n",
    "\n",
    "# The function to calculate days\n",
    "def calculate_days(from_date: str) -> int:\n",
    "    try:\n",
    "        parsed_date = datetime.strptime(from_date, \"%Y-%m-%d\")\n",
    "    except ValueError:\n",
    "        raise WrongFormatException(\"Date format is incorrect, expected 'YYYY-MM-DD'\")\n",
    "    \n",
    "    current_date = datetime.now()\n",
    "    difference = current_date - parsed_date\n",
    "    return difference.days\n",
    "\n",
    "# Now define the test functions\n",
    "@freeze_time(\"2021-10-06\")\n",
    "def test_calculate_days_past():\n",
    "    assert calculate_days(\"2021-10-05\") == 1\n",
    "\n",
    "@freeze_time(\"2021-10-06\")\n",
    "def test_calculate_days_future():\n",
    "    assert calculate_days(\"2021-10-07\") == -1\n",
    "\n",
    "def test_calculate_days_wrong_format():\n",
    "    with pytest.raises(WrongFormatException):\n",
    "        calculate_days(\"10-07-2021\")\n",
    "\n",
    "@freeze_time(\"2021-10-06\")\n",
    "def test_calculate_days_same_day():\n",
    "    assert calculate_days(\"2021-10-06\") == 0\n"
   ]
  },
  {
   "cell_type": "code",
   "execution_count": 7,
   "id": "7c854c88-d136-49d4-942c-3439f6ce5cea",
   "metadata": {},
   "outputs": [
    {
     "name": "stdout",
     "output_type": "stream",
     "text": [
      "\u001b[32m.\u001b[0m\u001b[32m.\u001b[0m\u001b[32m.\u001b[0m\u001b[32m.\u001b[0m\u001b[32m                                                                                         [100%]\u001b[0m\n",
      "\u001b[32m\u001b[32m\u001b[1m4 passed\u001b[0m\u001b[32m in 0.03s\u001b[0m\u001b[0m\n"
     ]
    },
    {
     "data": {
      "text/plain": [
       "<ExitCode.OK: 0>"
      ]
     },
     "execution_count": 7,
     "metadata": {},
     "output_type": "execute_result"
    }
   ],
   "source": [
    "ipytest.run()\n"
   ]
  },
  {
   "cell_type": "code",
   "execution_count": null,
   "id": "cb2c702d-f10a-439f-83a5-5451e6878e98",
   "metadata": {},
   "outputs": [],
   "source": []
  },
  {
   "cell_type": "code",
   "execution_count": null,
   "id": "f331b907-4e47-4fcc-80ae-0fffa505c3d5",
   "metadata": {},
   "outputs": [],
   "source": [
    "#2"
   ]
  },
  {
   "cell_type": "code",
   "execution_count": 12,
   "id": "200d6660-f066-41c5-9bcd-97bd1d78b887",
   "metadata": {},
   "outputs": [
    {
     "name": "stdout",
     "output_type": "stream",
     "text": [
      "\u001b[32m.\u001b[0m\u001b[32m.\u001b[0m\u001b[32m.\u001b[0m\u001b[32m.\u001b[0m\u001b[32m.\u001b[0m\u001b[32m.\u001b[0m\u001b[32m.\u001b[0m\u001b[32m.\u001b[0m\u001b[32m.\u001b[0m\u001b[32m                                                                                    [100%]\u001b[0m\n",
      "\u001b[32m\u001b[32m\u001b[1m9 passed\u001b[0m\u001b[32m in 0.04s\u001b[0m\u001b[0m\n"
     ]
    },
    {
     "data": {
      "text/plain": [
       "<ExitCode.OK: 0>"
      ]
     },
     "execution_count": 12,
     "metadata": {},
     "output_type": "execute_result"
    }
   ],
   "source": [
    "import ipytest\n",
    "ipytest.autoconfig()\n",
    "import math\n",
    "class OperationNotFoundException(Exception):\n",
    "    \"\"\"Exception raised for invalid operations or arguments.\"\"\"\n",
    "    def __init__(self, message):\n",
    "        super().__init__(message)\n",
    "def math_calculate(operation, *args):\n",
    "    if operation == 'log':\n",
    "        if len(args) != 2:\n",
    "            raise OperationNotFoundException(\"Invalid operation arguments\")\n",
    "        number, base = args\n",
    "        if not isinstance(number, (int, float)) or not isinstance(base, (int, float)):\n",
    "            raise OperationNotFoundException(\"Invalid operation arguments\")\n",
    "        return math.log(number, base)\n",
    "    elif operation == 'ceil':\n",
    "        if len(args) != 1:\n",
    "            raise OperationNotFoundException(\"Invalid operation arguments\")\n",
    "        number = args[0]\n",
    "        if not isinstance(number, (int, float)):\n",
    "            raise OperationNotFoundException(\"Invalid operation arguments\")\n",
    "        return math.ceil(number)\n",
    "    else:\n",
    "        raise OperationNotFoundException(f\"Invalid operation: '{operation}'\")\n",
    "import pytest\n",
    "def test_math_calculate_log():\n",
    "    result = math_calculate('log', 1024, 2)\n",
    "    assert result == 10.0\n",
    "def test_math_calculate_ceil():\n",
    "    result = math_calculate('ceil', 10.7)\n",
    "    assert result == 11\n",
    "def test_math_calculate_invalid_operation():\n",
    "    with pytest.raises(OperationNotFoundException, match=\"Invalid operation: 'invalid'\"):\n",
    "        math_calculate('invalid', 10)\n",
    "def test_math_calculate_invalid_arguments():\n",
    "    with pytest.raises(OperationNotFoundException, match=\"Invalid operation arguments\"):\n",
    "        math_calculate('log', 'invalid_argument')\n",
    "try:\n",
    "    math_calculate('log', 1024, 2)\n",
    "    math_calculate('ceil', 10.7)\n",
    "except OperationNotFoundException as e:\n",
    "    print(e)\n",
    "ipytest.run() "
   ]
  },
  {
   "cell_type": "code",
   "execution_count": null,
   "id": "4fe6ad4b-3471-469e-8e5f-c0458fcca023",
   "metadata": {},
   "outputs": [],
   "source": []
  },
  {
   "cell_type": "code",
   "execution_count": null,
   "id": "1db9a8fb-7533-4328-a74f-3555e7400385",
   "metadata": {},
   "outputs": [],
   "source": []
  },
  {
   "cell_type": "code",
   "execution_count": null,
   "id": "31622278-b687-4e3b-afa0-0ee5b17bad4d",
   "metadata": {},
   "outputs": [],
   "source": [
    "# 3"
   ]
  },
  {
   "cell_type": "code",
   "execution_count": 9,
   "id": "65b6e3b7-c34d-43d8-bee8-8bf407d8a6fb",
   "metadata": {},
   "outputs": [],
   "source": [
    "import re"
   ]
  },
  {
   "cell_type": "code",
   "execution_count": 10,
   "id": "619dfdd0-7697-4870-83ae-5c3245a6ed1b",
   "metadata": {},
   "outputs": [
    {
     "name": "stdout",
     "output_type": "stream",
     "text": [
      "All tests passed!\n"
     ]
    }
   ],
   "source": [
    "def is_http_domain(domain: str) -> bool:\n",
    "    pattern = r'^(https?://)([a-zA-Z0-9-]+\\.)+[a-zA-Z]{2,}(/)?$'\n",
    "    return bool(re.match(pattern, domain))\n",
    "def test_is_http_domain():\n",
    "    # Test valid HTTP/HTTPS domains\n",
    "    assert is_http_domain('http://wikipedia.org') == True\n",
    "    assert is_http_domain('https://ru.wikipedia.org/') == True\n",
    "    assert is_http_domain('https://example.com') == True\n",
    "    assert is_http_domain('http://www.sub.domain.co.uk/') == True\n",
    "    # Test invalid domains\n",
    "    assert is_http_domain('griddynamics.com') == False\n",
    "    assert is_http_domain('http:/wikipedia.org') == False\n",
    "    assert is_http_domain('http://wikipedia.') == False\n",
    "    assert is_http_domain('https://wikipedia') == False\n",
    "    assert is_http_domain('ftp://example.com') == False\n",
    "    # Edge cases\n",
    "    assert is_http_domain('https://') == False\n",
    "    assert is_http_domain('http://.') == False\n",
    "    assert is_http_domain('http://subdomain.') == False\n",
    "    print(\"All tests passed!\")\n",
    "# Run the test\n",
    "test_is_http_domain()"
   ]
  },
  {
   "cell_type": "code",
   "execution_count": null,
   "id": "7c46a3f0-fef8-4e87-a5e7-d9a77c2106cd",
   "metadata": {},
   "outputs": [],
   "source": []
  },
  {
   "cell_type": "code",
   "execution_count": 2,
   "id": "4bb51238-f27b-49f1-91f4-ea5ee9fa538b",
   "metadata": {},
   "outputs": [],
   "source": [
    "# 4"
   ]
  },
  {
   "cell_type": "code",
   "execution_count": 15,
   "id": "5ada9ba9-3c03-49ad-b3a7-deed5af63cfb",
   "metadata": {},
   "outputs": [
    {
     "name": "stderr",
     "output_type": "stream",
     "text": [
      ".\n",
      "----------------------------------------------------------------------\n",
      "Ran 1 test in 0.039s\n",
      "\n",
      "OK\n"
     ]
    }
   ],
   "source": [
    "import json\n",
    "from faker import Faker\n",
    "def print_name_address(number: int, fields: dict) -> None:\n",
    "    fake = Faker()\n",
    "    for _ in range(number):\n",
    "        data = {}\n",
    "        for field, provider in fields.items():\n",
    "            if hasattr(fake, provider):\n",
    "                fake_method = getattr(fake, provider)\n",
    "                data[field] = fake_method()\n",
    "            else:\n",
    "                data[field] = f\"Invalid provider {provider}\"\n",
    "        print(json.dumps(data))\n",
    "import unittest\n",
    "from unittest.mock import patch, MagicMock\n",
    "from io import StringIO\n",
    "import json\n",
    "class TestPrintNameAddress(unittest.TestCase):\n",
    "    @patch('sys.stdout', new_callable=StringIO)\n",
    "    @patch('faker.Faker')\n",
    "    def test_print_name_address(self, MockFaker, mock_stdout):\n",
    "        # Setup mock for Faker\n",
    "        mock_fake = MockFaker.return_value\n",
    "        mock_fake.name.return_value = 'Chad Baird'\n",
    "        mock_fake.address.return_value = '62323 Hobbs Green\\nMaryshire, WY 48636'\n",
    "        # Call the function with mocked arguments\n",
    "        print_name_address(3, {\n",
    "            'some_name': 'name',\n",
    "            'fake_address': 'address'\n",
    "        })\n",
    "        # Check the output\n",
    "        output = mock_stdout.getvalue().strip()\n",
    "        lines = output.split('\\n')\n",
    "        # Debugging: print the number of lines and the actual output\n",
    "        print(f\"Number of lines: {len(lines)}\")\n",
    "        print(\"Output:\", output)\n",
    "        # Ensure the number of lines matches the number of instances\n",
    "        self.assertEqual(len(lines), 3)\n",
    "        for line in lines:\n",
    "            # Parse each line to JSON and verify the structure\n",
    "            result = json.loads(line)\n",
    "            self.assertIn('some_name', result)\n",
    "            self.assertIn('fake_address', result)\n",
    "            self.assertIsInstance(result['some_name'], str)\n",
    "            self.assertIsInstance(result['fake_address'], str)\n",
    "# Run the tests\n",
    "def run_tests():\n",
    "    # Create a test suite and add the test cases\n",
    "    suite = unittest.TestLoader().loadTestsFromTestCase(TestPrintNameAddress)\n",
    "    # Run the tests and capture the results\n",
    "    runner = unittest.TextTestRunner()\n",
    "    runner.run(suite)\n",
    "run_tests()\n",
    "\n",
    "\n",
    "\n",
    "\n",
    "\n",
    "\n",
    "\n"
   ]
  },
  {
   "cell_type": "code",
   "execution_count": 13,
   "id": "8c189306-10a6-4191-9f43-9a93e26de044",
   "metadata": {},
   "outputs": [],
   "source": [
    "#5"
   ]
  },
  {
   "cell_type": "code",
   "execution_count": 14,
   "id": "5c95e5c7-68b5-4812-909d-0646f7c43f21",
   "metadata": {},
   "outputs": [
    {
     "name": "stderr",
     "output_type": "stream",
     "text": [
      ".\n",
      "----------------------------------------------------------------------\n",
      "Ran 1 test in 0.003s\n",
      "\n",
      "OK\n"
     ]
    }
   ],
   "source": [
    "import urllib.request\n",
    "from typing import Tuple\n",
    "def make_request(url: str) -> Tuple[int, str]:\n",
    "    with urllib.request.urlopen(url) as response:\n",
    "        data = response.read()\n",
    "        decoded_data = data.decode('utf-8')\n",
    "        return response.status, decoded_data\n",
    "import unittest\n",
    "from unittest.mock import patch, MagicMock\n",
    "class TestMakeRequest(unittest.TestCase):\n",
    "    @patch('urllib.request.urlopen')\n",
    "    def test_make_request(self, mock_urlopen):\n",
    "        mock_response = MagicMock()\n",
    "        mock_response.status = 200\n",
    "        mock_response.read.return_value = b'some text'\n",
    "        mock_urlopen.return_value.__enter__.return_value = mock_response\n",
    "        status_code, response_data = make_request('https://www.example.com')\n",
    "        self.assertEqual(status_code, 200)\n",
    "        self.assertEqual(response_data, 'some text')\n",
    "        mock_urlopen.assert_called_once_with('https://www.example.com')\n",
    "def run_tests():\n",
    "    suite = unittest.TestLoader().loadTestsFromTestCase(TestMakeRequest)\n",
    "    runner = unittest.TextTestRunner()\n",
    "    runner.run(suite)\n",
    "run_tests()"
   ]
  },
  {
   "cell_type": "code",
   "execution_count": null,
   "id": "b7cab5b0-c8ed-4fc3-9ed6-848c1cc08420",
   "metadata": {},
   "outputs": [],
   "source": []
  },
  {
   "cell_type": "code",
   "execution_count": null,
   "id": "b8c8b28e-9acd-4496-8a76-2331942ac724",
   "metadata": {},
   "outputs": [],
   "source": []
  },
  {
   "cell_type": "code",
   "execution_count": null,
   "id": "bdc749ef-4037-4f5d-898e-18204852c185",
   "metadata": {},
   "outputs": [],
   "source": []
  },
  {
   "cell_type": "code",
   "execution_count": null,
   "id": "33be9e61-a7b7-451a-bb7b-c0e711a4db06",
   "metadata": {},
   "outputs": [],
   "source": []
  },
  {
   "cell_type": "code",
   "execution_count": null,
   "id": "26f812f3-d133-4185-81d9-98a76384fae1",
   "metadata": {},
   "outputs": [],
   "source": []
  }
 ],
 "metadata": {
  "kernelspec": {
   "display_name": "Python 3 (ipykernel)",
   "language": "python",
   "name": "python3"
  },
  "language_info": {
   "codemirror_mode": {
    "name": "ipython",
    "version": 3
   },
   "file_extension": ".py",
   "mimetype": "text/x-python",
   "name": "python",
   "nbconvert_exporter": "python",
   "pygments_lexer": "ipython3",
   "version": "3.12.6"
  }
 },
 "nbformat": 4,
 "nbformat_minor": 5
}
